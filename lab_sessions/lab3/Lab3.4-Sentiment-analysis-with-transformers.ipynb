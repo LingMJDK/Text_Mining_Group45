{
 "cells": [
  {
   "cell_type": "markdown",
   "metadata": {},
   "source": [
    "# Lab3.4 Sentiment Classification using transformer models"
   ]
  },
  {
   "cell_type": "markdown",
   "metadata": {},
   "source": [
    "Copyright: Vrije Universiteit Amsterdam, Faculty of Humanities, CLTL"
   ]
  },
  {
   "cell_type": "markdown",
   "metadata": {},
   "source": [
    "This notebook explains how you can use a transformer model that is fine-tuned for sentiment analysis. Fine-tuned transformer models are published regularly on the huggingface platform: https://huggingface.co/models\n",
    "\n",
    "These models are very big (Gigabytes) and require a computer with sufficient memory to load. Furthermore, loading these models takes some time as well. It is also possible to copy such a model to your disk and to load the local copy. Still a substantial memory is needed to load it."
   ]
  },
  {
   "cell_type": "markdown",
   "metadata": {},
   "source": [
    "This notebook requires installing some deep learning packages: transformers, pytorch and simpletransformers. If you are not experienced with installing these packages, make sure you first define a virtual environment for python, activate this environment and install the packages in this enviroment.\n",
    "\n",
    "Please consult the Python documentation for installing such an enviroment:\n",
    "\n",
    "https://docs.python.org/3/library/venv.html\n",
    "\n",
    "After activating your enviroment you can install pytorch, transformers and simpletransformers from the command line. If you start this notebook within the same virtual environment you can also execute the next installation commands from your notebook. Once installed, you can comment out the next cell."
   ]
  },
  {
   "cell_type": "code",
   "execution_count": 2,
   "metadata": {},
   "outputs": [],
   "source": [
    "#!conda install pytorch cpuonly -c pytorch\n",
    "#!pip install transformers\n",
    "#!pip install simpletransformers"
   ]
  },
  {
   "cell_type": "markdown",
   "metadata": {},
   "source": [
    "Huggingface transfomers provides an option to create a **pipeline** to perform a NLP task with a pretrained model: \n",
    "\n",
    "\"The pipelines are a great and easy way to use models for inference. These pipelines are objects that abstract most of the complex code from the library, offering a simple API dedicated to several tasks, including Named Entity Recognition, Masked Language Modeling, Sentiment Analysis, Feature Extraction and Question Answering.\"\n",
    "\n",
    "More information can be found here: https://huggingface.co/transformers/v3.0.2/main_classes/pipelines.html\n",
    "\n",
    "We will use the pipeline module to load a fine-tuned model to perform senteiment analysis"
   ]
  },
  {
   "cell_type": "code",
   "execution_count": 1,
   "metadata": {},
   "outputs": [
    {
     "name": "stderr",
     "output_type": "stream",
     "text": [
      "/mnt/sda1/envs/text-mining/lib/python3.10/site-packages/tqdm/auto.py:21: TqdmWarning: IProgress not found. Please update jupyter and ipywidgets. See https://ipywidgets.readthedocs.io/en/stable/user_install.html\n",
      "  from .autonotebook import tqdm as notebook_tqdm\n"
     ]
    }
   ],
   "source": [
    "from transformers import pipeline"
   ]
  },
  {
   "cell_type": "markdown",
   "metadata": {},
   "source": [
    "We load a transformer model 'distilbert-base-uncased-finetuned-sst-2-english' that is fine-tuned for binary classification from the Hugging face repository:\n",
    "\n",
    "https://huggingface.co/models\n",
    "\n",
    "We need to load the model for the sequence classifcation and the tokenizer to convert the sentences into tokens according to the vocabulary of the model.\n",
    "\n",
    "Loading the model takes some time."
   ]
  },
  {
   "cell_type": "code",
   "execution_count": 2,
   "metadata": {},
   "outputs": [],
   "source": [
    "sentimentenglish = pipeline(\"sentiment-analysis\", \n",
    "                            model=\"distilbert-base-uncased-finetuned-sst-2-english\", \n",
    "                            tokenizer=\"distilbert-base-uncased-finetuned-sst-2-english\")"
   ]
  },
  {
   "cell_type": "markdown",
   "metadata": {},
   "source": [
    "We now created an instantiation of a pipeline that can tokenize any sentence, obtain a sententence embedding from the transformer language model and perform the **sentiment-analysis** task. Let's try it out on an example sentence."
   ]
  },
  {
   "cell_type": "code",
   "execution_count": 5,
   "metadata": {},
   "outputs": [],
   "source": [
    "sentence_pos_en = \"Nice hotel and the service is great\""
   ]
  },
  {
   "cell_type": "code",
   "execution_count": 6,
   "metadata": {},
   "outputs": [
    {
     "data": {
      "text/plain": [
       "[{'label': 'POSITIVE', 'score': 0.999881386756897}]"
      ]
     },
     "execution_count": 6,
     "metadata": {},
     "output_type": "execute_result"
    }
   ],
   "source": [
    "sentimentenglish(sentence_pos_en)"
   ]
  },
  {
   "cell_type": "code",
   "execution_count": 7,
   "metadata": {},
   "outputs": [],
   "source": [
    "sentence_neg_en = \"The rooms are dirty and the wifi does not work\""
   ]
  },
  {
   "cell_type": "code",
   "execution_count": 8,
   "metadata": {},
   "outputs": [
    {
     "data": {
      "text/plain": [
       "[{'label': 'NEGATIVE', 'score': 0.9997870326042175}]"
      ]
     },
     "execution_count": 8,
     "metadata": {},
     "output_type": "execute_result"
    }
   ],
   "source": [
    "sentimentenglish(sentence_neg_en)"
   ]
  },
  {
   "cell_type": "markdown",
   "metadata": {},
   "source": [
    "This is easy and seems to work very well. "
   ]
  },
  {
   "cell_type": "markdown",
   "metadata": {},
   "source": [
    "## Using a Dutch fine-tuned transformer model"
   ]
  },
  {
   "cell_type": "markdown",
   "metadata": {},
   "source": [
    "We can use a fine-tuned Dutch model for Dutch sentiment analysis by creating another pipeline. Again loading this model takes some time. Also note that after loading, both moodels are loaded in memory. So if you have issues loading, you may want to start over and try again just with the Dutch pipeline."
   ]
  },
  {
   "cell_type": "code",
   "execution_count": 7,
   "metadata": {},
   "outputs": [],
   "source": [
    "sentimentdutch = pipeline(\"sentiment-analysis\", \n",
    "                          model=\"wietsedv/bert-base-dutch-cased-finetuned-sentiment\", \n",
    "                          tokenizer=\"wietsedv/bert-base-dutch-cased-finetuned-sentiment\")"
   ]
  },
  {
   "cell_type": "markdown",
   "metadata": {},
   "source": [
    "We test it on two similar Dutch sentences:"
   ]
  },
  {
   "cell_type": "code",
   "execution_count": 8,
   "metadata": {},
   "outputs": [],
   "source": [
    "sentence_pos_nl=\"Mooi hotel en de service is geweldig\"\n",
    "sentence_neg_nl=\"De kamers zijn smerig en de wifi doet het niet\""
   ]
  },
  {
   "cell_type": "code",
   "execution_count": 9,
   "metadata": {},
   "outputs": [
    {
     "data": {
      "text/plain": [
       "[{'label': 'pos', 'score': 0.9999955892562866}]"
      ]
     },
     "execution_count": 9,
     "metadata": {},
     "output_type": "execute_result"
    }
   ],
   "source": [
    "sentimentdutch(sentence_pos_nl)"
   ]
  },
  {
   "cell_type": "code",
   "execution_count": 10,
   "metadata": {},
   "outputs": [
    {
     "data": {
      "text/plain": [
       "[{'label': 'neg', 'score': 0.6675359010696411}]"
      ]
     },
     "execution_count": 10,
     "metadata": {},
     "output_type": "execute_result"
    }
   ],
   "source": [
    "sentimentdutch(sentence_neg_nl)"
   ]
  },
  {
   "cell_type": "markdown",
   "metadata": {},
   "source": [
    "This seems to work fine too although the score for negative in the second example is much lower."
   ]
  },
  {
   "cell_type": "markdown",
   "metadata": {},
   "source": [
    "## Inspecting sentence representations using Simpletransformers"
   ]
  },
  {
   "cell_type": "markdown",
   "metadata": {},
   "source": [
    "The Simpletransformers package is built on top of the transformer package. It simplifies the use of transformers even more and provides excellent documentation: https://simpletransformers.ai\n",
    "\n",
    "The site explains also how you can fine-tune models yourself or even how to build models from scratch, assuming you have the computing power and the data.\n",
    "\n",
    "Here we are going to use it to inspect the sentence representations a bit more. Unfortunately, we need to load the English model again as an instantiation of a RepresentationModel. So if you have memory issues, please stop the kernel and start again from here.\n",
    "\n",
    "Loading the model may gave a lot of warnings. You can ignore these. If you do not have a graphical card (GPU) and or cuda installed to use the GPU you need to set use_cuda to False, as shown below."
   ]
  },
  {
   "cell_type": "code",
   "execution_count": 3,
   "metadata": {},
   "outputs": [
    {
     "name": "stderr",
     "output_type": "stream",
     "text": [
      "You are using a model of type distilbert to instantiate a model of type bert. This is not supported for all configurations of models and can yield errors.\n",
      "Some weights of BertForTextRepresentation were not initialized from the model checkpoint at distilbert-base-uncased-finetuned-sst-2-english and are newly initialized: ['embeddings.LayerNorm.bias', 'embeddings.LayerNorm.weight', 'embeddings.position_embeddings.weight', 'embeddings.token_type_embeddings.weight', 'embeddings.word_embeddings.weight', 'encoder.layer.0.attention.output.LayerNorm.bias', 'encoder.layer.0.attention.output.LayerNorm.weight', 'encoder.layer.0.attention.output.dense.bias', 'encoder.layer.0.attention.output.dense.weight', 'encoder.layer.0.attention.self.key.bias', 'encoder.layer.0.attention.self.key.weight', 'encoder.layer.0.attention.self.query.bias', 'encoder.layer.0.attention.self.query.weight', 'encoder.layer.0.attention.self.value.bias', 'encoder.layer.0.attention.self.value.weight', 'encoder.layer.0.intermediate.dense.bias', 'encoder.layer.0.intermediate.dense.weight', 'encoder.layer.0.output.LayerNorm.bias', 'encoder.layer.0.output.LayerNorm.weight', 'encoder.layer.0.output.dense.bias', 'encoder.layer.0.output.dense.weight', 'encoder.layer.1.attention.output.LayerNorm.bias', 'encoder.layer.1.attention.output.LayerNorm.weight', 'encoder.layer.1.attention.output.dense.bias', 'encoder.layer.1.attention.output.dense.weight', 'encoder.layer.1.attention.self.key.bias', 'encoder.layer.1.attention.self.key.weight', 'encoder.layer.1.attention.self.query.bias', 'encoder.layer.1.attention.self.query.weight', 'encoder.layer.1.attention.self.value.bias', 'encoder.layer.1.attention.self.value.weight', 'encoder.layer.1.intermediate.dense.bias', 'encoder.layer.1.intermediate.dense.weight', 'encoder.layer.1.output.LayerNorm.bias', 'encoder.layer.1.output.LayerNorm.weight', 'encoder.layer.1.output.dense.bias', 'encoder.layer.1.output.dense.weight', 'encoder.layer.10.attention.output.LayerNorm.bias', 'encoder.layer.10.attention.output.LayerNorm.weight', 'encoder.layer.10.attention.output.dense.bias', 'encoder.layer.10.attention.output.dense.weight', 'encoder.layer.10.attention.self.key.bias', 'encoder.layer.10.attention.self.key.weight', 'encoder.layer.10.attention.self.query.bias', 'encoder.layer.10.attention.self.query.weight', 'encoder.layer.10.attention.self.value.bias', 'encoder.layer.10.attention.self.value.weight', 'encoder.layer.10.intermediate.dense.bias', 'encoder.layer.10.intermediate.dense.weight', 'encoder.layer.10.output.LayerNorm.bias', 'encoder.layer.10.output.LayerNorm.weight', 'encoder.layer.10.output.dense.bias', 'encoder.layer.10.output.dense.weight', 'encoder.layer.11.attention.output.LayerNorm.bias', 'encoder.layer.11.attention.output.LayerNorm.weight', 'encoder.layer.11.attention.output.dense.bias', 'encoder.layer.11.attention.output.dense.weight', 'encoder.layer.11.attention.self.key.bias', 'encoder.layer.11.attention.self.key.weight', 'encoder.layer.11.attention.self.query.bias', 'encoder.layer.11.attention.self.query.weight', 'encoder.layer.11.attention.self.value.bias', 'encoder.layer.11.attention.self.value.weight', 'encoder.layer.11.intermediate.dense.bias', 'encoder.layer.11.intermediate.dense.weight', 'encoder.layer.11.output.LayerNorm.bias', 'encoder.layer.11.output.LayerNorm.weight', 'encoder.layer.11.output.dense.bias', 'encoder.layer.11.output.dense.weight', 'encoder.layer.2.attention.output.LayerNorm.bias', 'encoder.layer.2.attention.output.LayerNorm.weight', 'encoder.layer.2.attention.output.dense.bias', 'encoder.layer.2.attention.output.dense.weight', 'encoder.layer.2.attention.self.key.bias', 'encoder.layer.2.attention.self.key.weight', 'encoder.layer.2.attention.self.query.bias', 'encoder.layer.2.attention.self.query.weight', 'encoder.layer.2.attention.self.value.bias', 'encoder.layer.2.attention.self.value.weight', 'encoder.layer.2.intermediate.dense.bias', 'encoder.layer.2.intermediate.dense.weight', 'encoder.layer.2.output.LayerNorm.bias', 'encoder.layer.2.output.LayerNorm.weight', 'encoder.layer.2.output.dense.bias', 'encoder.layer.2.output.dense.weight', 'encoder.layer.3.attention.output.LayerNorm.bias', 'encoder.layer.3.attention.output.LayerNorm.weight', 'encoder.layer.3.attention.output.dense.bias', 'encoder.layer.3.attention.output.dense.weight', 'encoder.layer.3.attention.self.key.bias', 'encoder.layer.3.attention.self.key.weight', 'encoder.layer.3.attention.self.query.bias', 'encoder.layer.3.attention.self.query.weight', 'encoder.layer.3.attention.self.value.bias', 'encoder.layer.3.attention.self.value.weight', 'encoder.layer.3.intermediate.dense.bias', 'encoder.layer.3.intermediate.dense.weight', 'encoder.layer.3.output.LayerNorm.bias', 'encoder.layer.3.output.LayerNorm.weight', 'encoder.layer.3.output.dense.bias', 'encoder.layer.3.output.dense.weight', 'encoder.layer.4.attention.output.LayerNorm.bias', 'encoder.layer.4.attention.output.LayerNorm.weight', 'encoder.layer.4.attention.output.dense.bias', 'encoder.layer.4.attention.output.dense.weight', 'encoder.layer.4.attention.self.key.bias', 'encoder.layer.4.attention.self.key.weight', 'encoder.layer.4.attention.self.query.bias', 'encoder.layer.4.attention.self.query.weight', 'encoder.layer.4.attention.self.value.bias', 'encoder.layer.4.attention.self.value.weight', 'encoder.layer.4.intermediate.dense.bias', 'encoder.layer.4.intermediate.dense.weight', 'encoder.layer.4.output.LayerNorm.bias', 'encoder.layer.4.output.LayerNorm.weight', 'encoder.layer.4.output.dense.bias', 'encoder.layer.4.output.dense.weight', 'encoder.layer.5.attention.output.LayerNorm.bias', 'encoder.layer.5.attention.output.LayerNorm.weight', 'encoder.layer.5.attention.output.dense.bias', 'encoder.layer.5.attention.output.dense.weight', 'encoder.layer.5.attention.self.key.bias', 'encoder.layer.5.attention.self.key.weight', 'encoder.layer.5.attention.self.query.bias', 'encoder.layer.5.attention.self.query.weight', 'encoder.layer.5.attention.self.value.bias', 'encoder.layer.5.attention.self.value.weight', 'encoder.layer.5.intermediate.dense.bias', 'encoder.layer.5.intermediate.dense.weight', 'encoder.layer.5.output.LayerNorm.bias', 'encoder.layer.5.output.LayerNorm.weight', 'encoder.layer.5.output.dense.bias', 'encoder.layer.5.output.dense.weight', 'encoder.layer.6.attention.output.LayerNorm.bias', 'encoder.layer.6.attention.output.LayerNorm.weight', 'encoder.layer.6.attention.output.dense.bias', 'encoder.layer.6.attention.output.dense.weight', 'encoder.layer.6.attention.self.key.bias', 'encoder.layer.6.attention.self.key.weight', 'encoder.layer.6.attention.self.query.bias', 'encoder.layer.6.attention.self.query.weight', 'encoder.layer.6.attention.self.value.bias', 'encoder.layer.6.attention.self.value.weight', 'encoder.layer.6.intermediate.dense.bias', 'encoder.layer.6.intermediate.dense.weight', 'encoder.layer.6.output.LayerNorm.bias', 'encoder.layer.6.output.LayerNorm.weight', 'encoder.layer.6.output.dense.bias', 'encoder.layer.6.output.dense.weight', 'encoder.layer.7.attention.output.LayerNorm.bias', 'encoder.layer.7.attention.output.LayerNorm.weight', 'encoder.layer.7.attention.output.dense.bias', 'encoder.layer.7.attention.output.dense.weight', 'encoder.layer.7.attention.self.key.bias', 'encoder.layer.7.attention.self.key.weight', 'encoder.layer.7.attention.self.query.bias', 'encoder.layer.7.attention.self.query.weight', 'encoder.layer.7.attention.self.value.bias', 'encoder.layer.7.attention.self.value.weight', 'encoder.layer.7.intermediate.dense.bias', 'encoder.layer.7.intermediate.dense.weight', 'encoder.layer.7.output.LayerNorm.bias', 'encoder.layer.7.output.LayerNorm.weight', 'encoder.layer.7.output.dense.bias', 'encoder.layer.7.output.dense.weight', 'encoder.layer.8.attention.output.LayerNorm.bias', 'encoder.layer.8.attention.output.LayerNorm.weight', 'encoder.layer.8.attention.output.dense.bias', 'encoder.layer.8.attention.output.dense.weight', 'encoder.layer.8.attention.self.key.bias', 'encoder.layer.8.attention.self.key.weight', 'encoder.layer.8.attention.self.query.bias', 'encoder.layer.8.attention.self.query.weight', 'encoder.layer.8.attention.self.value.bias', 'encoder.layer.8.attention.self.value.weight', 'encoder.layer.8.intermediate.dense.bias', 'encoder.layer.8.intermediate.dense.weight', 'encoder.layer.8.output.LayerNorm.bias', 'encoder.layer.8.output.LayerNorm.weight', 'encoder.layer.8.output.dense.bias', 'encoder.layer.8.output.dense.weight', 'encoder.layer.9.attention.output.LayerNorm.bias', 'encoder.layer.9.attention.output.LayerNorm.weight', 'encoder.layer.9.attention.output.dense.bias', 'encoder.layer.9.attention.output.dense.weight', 'encoder.layer.9.attention.self.key.bias', 'encoder.layer.9.attention.self.key.weight', 'encoder.layer.9.attention.self.query.bias', 'encoder.layer.9.attention.self.query.weight', 'encoder.layer.9.attention.self.value.bias', 'encoder.layer.9.attention.self.value.weight', 'encoder.layer.9.intermediate.dense.bias', 'encoder.layer.9.intermediate.dense.weight', 'encoder.layer.9.output.LayerNorm.bias', 'encoder.layer.9.output.LayerNorm.weight', 'encoder.layer.9.output.dense.bias', 'encoder.layer.9.output.dense.weight', 'pooler.dense.bias', 'pooler.dense.weight']\n",
      "You should probably TRAIN this model on a down-stream task to be able to use it for predictions and inference.\n",
      "The tokenizer class you load from this checkpoint is not the same type as the class this function is called from. It may result in unexpected tokenization. \n",
      "The tokenizer class you load from this checkpoint is 'DistilBertTokenizer'. \n",
      "The class this function is called from is 'BertTokenizer'.\n"
     ]
    }
   ],
   "source": [
    "from simpletransformers.language_representation import RepresentationModel\n",
    "        \n",
    "#sentences = [\"Example sentence 1\", \"Example sentence 2\"]\n",
    "model = RepresentationModel(\n",
    "        model_type=\"bert\",\n",
    "        model_name=\"distilbert-base-uncased-finetuned-sst-2-english\",\n",
    "        use_cuda=False ## If you cannot use a GPU set this to false\n",
    "    )"
   ]
  },
  {
   "cell_type": "markdown",
   "metadata": {},
   "source": [
    "The Representationmodel allows you to obtain a sentence encoding. We do that next for the positive English example which consists of 7 words:"
   ]
  },
  {
   "cell_type": "code",
   "execution_count": 9,
   "metadata": {},
   "outputs": [
    {
     "data": {
      "text/plain": [
       "'Nice hotel and the service is great'"
      ]
     },
     "execution_count": 9,
     "metadata": {},
     "output_type": "execute_result"
    }
   ],
   "source": [
    "sentence_pos_en"
   ]
  },
  {
   "cell_type": "markdown",
   "metadata": {},
   "source": [
    "According to the simpletransformers API the input must be a list even when it is a single sentence. If you pass a string as input, it will turn it into a list of charcaters, each character as a separate sentence."
   ]
  },
  {
   "cell_type": "code",
   "execution_count": 10,
   "metadata": {},
   "outputs": [],
   "source": [
    "word_vectors = model.encode_sentences([sentence_pos_en], combine_strategy=None)"
   ]
  },
  {
   "cell_type": "markdown",
   "metadata": {},
   "source": [
    "The result is a numpy array with the shape (1, 9, 768) "
   ]
  },
  {
   "cell_type": "code",
   "execution_count": 11,
   "metadata": {},
   "outputs": [
    {
     "name": "stdout",
     "output_type": "stream",
     "text": [
      "<class 'numpy.ndarray'>\n",
      "(1, 9, 768)\n"
     ]
    }
   ],
   "source": [
    "print(type(word_vectors))\n",
    "print(word_vectors.shape)"
   ]
  },
  {
   "cell_type": "markdown",
   "metadata": {},
   "source": [
    "The first number indicates the number of sentences, which is **1** in our case. The next digit **9** indicates the number of tokens and the final digit is the number of dimension for each token according to the transformer model, which **768** in case of BERT models.\n",
    "\n",
    "We can ask for the full embedding representation for the first token:"
   ]
  },
  {
   "cell_type": "code",
   "execution_count": 12,
   "metadata": {},
   "outputs": [
    {
     "name": "stdout",
     "output_type": "stream",
     "text": [
      "Nr of dimensions for the mebdding of the first token: 768\n",
      "[-4.34482813e-01  1.09322059e+00  5.44607222e-01 -5.65469503e-01\n",
      "  2.24163204e-01 -9.59377587e-01  1.17419556e-01  1.54672670e+00\n",
      "  1.91094005e+00 -2.26124978e+00  1.05726206e+00  1.41900206e+00\n",
      "  5.87850809e-01  7.17881560e-01 -4.44827259e-01  1.06809425e+00\n",
      "  1.69507241e+00 -1.97570652e-01  7.94004872e-02  7.42443874e-02\n",
      " -1.57550707e-01 -1.08116746e+00 -1.52827692e+00 -4.28911120e-01\n",
      "  3.20783705e-01  2.34601736e+00  1.23937190e+00  1.22663867e+00\n",
      " -8.12583625e-01 -7.85245657e-01 -9.39394534e-01 -3.34808648e-01\n",
      "  5.08074284e-01  2.14444304e+00 -1.16436768e+00  6.67989135e-01\n",
      " -2.28255570e-01 -1.19519067e+00  4.48858589e-01 -6.30535483e-01\n",
      "  1.11460537e-01  7.45916128e-01  1.45766771e+00 -2.28180319e-01\n",
      " -4.38674569e-01  1.59283663e-04  8.23194742e-01 -8.83012712e-01\n",
      "  5.67279905e-02 -5.76687753e-01 -1.83550572e+00  2.05080181e-01\n",
      "  4.58167553e-01 -1.29193354e+00  6.40520453e-01 -8.14501584e-01\n",
      " -1.03822601e+00  1.00622749e+00 -7.59441733e-01 -9.46384370e-01\n",
      " -2.20746905e-01  4.78841513e-01  1.79223633e+00 -1.72468197e+00\n",
      "  1.86204672e+00  9.29037333e-01 -3.67182434e-01 -1.04052174e+00\n",
      "  5.36389053e-01  8.76826495e-02 -3.90582949e-01 -2.15534374e-01\n",
      " -1.94106829e+00  1.92308271e+00  3.44735950e-01 -7.99399376e-01\n",
      " -1.33079350e-01 -1.93946409e+00 -1.39260054e-01  2.66118264e+00\n",
      " -2.96506584e-01 -6.94745779e-01 -8.30554307e-01 -2.63231218e-01\n",
      " -8.71090353e-01  2.44932070e-01  4.64978188e-01  1.25293863e+00\n",
      "  9.07121956e-01 -1.17651455e-01 -8.03245008e-01 -8.60911906e-01\n",
      "  9.16971147e-01  1.18608785e+00 -1.02344489e+00  3.28246392e-02\n",
      "  5.48166871e-01  1.30339849e+00  4.81735945e-01  2.08125162e+00\n",
      "  1.92164391e-01  1.54187858e+00  2.01595709e-01  3.84653032e-01\n",
      " -6.31637871e-01 -8.27571392e-01 -8.04902390e-02 -1.54951549e+00\n",
      " -1.06982088e+00  6.56069040e-01  6.83320582e-01 -6.22795671e-02\n",
      " -1.36342478e+00 -1.23993671e+00 -1.30905733e-01 -1.32246447e+00\n",
      " -1.00262284e-01  3.59486490e-01  2.18117125e-02  1.93673015e-01\n",
      "  1.33966947e+00 -8.00611138e-01 -1.93605316e+00 -1.44521606e+00\n",
      " -5.08406721e-02  1.09118007e-01 -4.25712377e-01 -2.20109105e-01\n",
      " -8.18968177e-01 -8.39541852e-02  1.70039320e+00 -5.48331201e-01\n",
      " -6.12348735e-01  1.51338184e+00  1.78587675e+00 -1.71720505e+00\n",
      "  1.15642321e+00 -1.11553776e+00 -1.70715797e+00  1.63445666e-01\n",
      " -6.04966640e-01  6.16324484e-01  8.06957662e-01  1.43123162e+00\n",
      " -7.42423713e-01  8.61968845e-02 -8.73217821e-01 -9.72412229e-01\n",
      "  1.41998339e+00 -6.49540305e-01  7.41246402e-01 -1.91433311e-01\n",
      " -6.20887756e-01 -9.50527608e-01  5.79529293e-02 -1.06840146e+00\n",
      "  1.27994031e-01  1.36271679e+00  2.85758317e-01 -5.44772506e-01\n",
      "  1.29518700e+00  3.10867757e-01 -1.79896331e+00 -1.72624397e+00\n",
      "  1.48253709e-01 -1.45272946e+00 -3.09886575e-01  2.06599254e-02\n",
      "  1.38497621e-01 -1.54021418e+00  1.18818736e+00 -8.32364783e-02\n",
      " -3.90488529e+00  1.79732525e+00 -7.62881577e-01  2.99962580e-01\n",
      " -1.31052017e+00 -2.17747831e+00  4.92039591e-01 -1.03864253e+00\n",
      "  1.01107144e+00  5.36685251e-03  4.02727246e-01 -2.71657848e+00\n",
      "  5.05784452e-01  8.92052889e-01 -6.74544692e-01 -8.78532887e-01\n",
      " -2.09225640e-01  5.46379268e-01 -1.35323601e-02 -5.49017847e-01\n",
      " -1.55332774e-01  8.54025722e-01 -1.41714334e+00  7.23347485e-01\n",
      "  3.25410992e-01  2.99397737e-01  2.21141052e+00 -7.67509222e-01\n",
      " -4.75060195e-01  5.15543580e-01 -1.31579530e+00  1.12018682e-01\n",
      " -1.11263061e+00 -8.22238088e-01  1.80901623e+00 -6.46425724e-01\n",
      "  9.57055151e-01  1.46074021e+00  4.59369749e-01  9.48386967e-01\n",
      " -8.18325162e-01 -5.40736675e-01  1.89999962e+00 -2.23494276e-01\n",
      "  6.17283165e-01  1.41691744e-01 -1.48531890e+00 -8.98941040e-01\n",
      "  4.49695945e-01  1.63035691e+00 -1.38831925e+00 -2.57970780e-01\n",
      "  2.81134367e-01  8.58406350e-02 -9.63550732e-02 -1.64976025e+00\n",
      "  1.45437026e+00  1.61072171e+00 -1.28582430e+00 -2.20713824e-01\n",
      " -5.99794090e-01 -6.01982594e-01  1.16243005e-01 -2.54685330e+00\n",
      "  5.79515159e-01  2.55877048e-01  5.02278090e-01  6.62235260e-01\n",
      " -2.32079085e-02  3.96767914e-01 -1.31029391e+00  1.54408300e+00\n",
      " -9.19017553e-01  7.57922649e-01 -1.08772480e+00  3.30514938e-01\n",
      "  4.74679857e-01 -1.97645560e-01  2.39104867e+00 -6.01612687e-01\n",
      "  1.27795720e+00  3.82319778e-01  5.61716139e-01 -4.32074487e-01\n",
      " -2.47282423e-02 -1.98356616e+00  7.01136708e-01 -5.66886604e-01\n",
      "  2.87527964e-02  9.71611738e-01  8.81034076e-01 -1.43264580e+00\n",
      " -1.17723143e+00  5.98444104e-01  2.18081927e+00 -2.26221418e+00\n",
      " -6.80310726e-01  1.26320672e+00 -2.40488067e-01  3.10673594e-01\n",
      "  1.43280232e+00  3.01611066e-01 -1.07678503e-01 -1.93522620e+00\n",
      "  6.48179889e-01 -4.69681144e-01 -1.96284139e+00 -3.15766841e-01\n",
      "  8.92886743e-02 -2.25463137e-01 -9.36460793e-01 -9.10463277e-03\n",
      " -2.02718377e-01 -2.40848109e-01  1.81190753e+00  2.09508300e+00\n",
      "  1.24279022e+00  6.99221432e-01 -6.29539371e-01 -6.06163502e-01\n",
      " -2.48859972e-01  1.61512804e+00  2.21649095e-01 -1.44878364e+00\n",
      " -2.37693936e-01  1.81640074e-01  3.42494786e-01  9.52226460e-01\n",
      " -5.61396897e-01 -6.38336241e-01 -9.34540272e-01 -2.46300146e-01\n",
      " -1.75250709e+00  1.51964560e-01  1.72588930e-01 -4.40628439e-01\n",
      " -1.83208871e+00  7.58594751e-01  1.56843972e+00 -1.37374625e-01\n",
      "  1.13726580e+00 -1.10829329e+00 -4.60083574e-01  9.78120506e-01\n",
      "  2.49313757e-01  7.69636691e-01  9.29738507e-02 -6.18631005e-01\n",
      " -1.00382221e+00  1.36074400e+00 -6.74005151e-01  6.14462793e-01\n",
      " -2.47435784e+00  4.42557186e-02  5.89842536e-02 -1.21540916e+00\n",
      " -3.28521192e-01 -7.64058530e-01  1.57256380e-01  5.06588340e-01\n",
      "  1.16475737e+00 -1.24003261e-01 -1.98469961e+00 -4.98946160e-01\n",
      "  8.72007012e-01  1.49572384e+00 -7.23941624e-01 -2.38383412e-01\n",
      " -6.25091940e-02  7.21853316e-01  7.39817843e-02 -8.42880726e-01\n",
      " -6.57444656e-01  8.37248564e-01  8.02596509e-02  3.97369713e-01\n",
      " -7.38995075e-01 -3.76338392e-01  1.01930833e+00  3.66421729e-01\n",
      "  4.12731141e-01  3.54188800e-01  4.51525331e-01  1.08101285e+00\n",
      "  4.71648753e-01 -4.25381988e-01 -4.43631738e-01  1.08832866e-01\n",
      "  2.11541700e+00 -2.11062956e+00 -3.22162747e-01 -2.97558993e-01\n",
      " -5.40531099e-01 -8.23610947e-02 -9.61173624e-02 -4.50797588e-01\n",
      "  1.03362060e+00  7.95883238e-01  1.03948808e+00 -1.32551268e-01\n",
      "  3.53210308e-02  1.23342820e-01  7.55453825e-01  2.47277364e-01\n",
      " -2.11623359e+00  2.86321729e-01  8.62067223e-01 -7.61887670e-01\n",
      " -4.03675824e-01 -1.05448568e+00 -1.85162023e-01 -9.97294411e-02\n",
      " -2.16226530e+00 -1.99307346e+00 -6.43470228e-01  1.42513824e+00\n",
      " -2.13257894e-01  1.40289402e+00 -4.79597002e-01  9.11992669e-01\n",
      "  3.12490672e-01 -1.32037020e+00  7.01175272e-01  1.24591496e-02\n",
      "  1.51257634e-01 -1.46119848e-01  3.49580824e-01  1.28524438e-01\n",
      "  2.07551551e+00  1.48299634e+00 -1.82358056e-01  1.72999322e+00\n",
      "  6.67260587e-01 -3.85309100e-01 -9.93922353e-01  1.10348904e+00\n",
      "  5.18557012e-01  9.74333882e-01  1.46891487e+00  6.32785678e-01\n",
      "  4.36735809e-01  1.45038462e+00  1.74592829e+00  5.55042252e-02\n",
      " -5.37732542e-01  1.21684933e+00  1.12250543e+00 -1.06252396e+00\n",
      "  8.94091070e-01  8.21108401e-01 -1.00039721e-01 -8.55280042e-01\n",
      "  9.65601802e-02  2.08883309e+00  1.15146029e+00  1.19857657e+00\n",
      "  3.96783918e-01 -3.14383805e-02 -1.74924552e-01  1.18716676e-02\n",
      " -1.34896171e+00  5.59400082e-01  2.87236929e+00 -2.14430833e+00\n",
      " -1.46465063e+00  9.97959599e-02 -3.55615765e-01  6.29461050e-01\n",
      "  1.35817677e-01 -1.41110265e+00  4.89365727e-01  1.64734304e+00\n",
      " -1.40803665e-01 -4.34344001e-02  1.79873183e-01 -8.55150223e-01\n",
      "  1.08612204e+00  1.22055650e+00 -3.44185084e-01 -1.23827255e+00\n",
      "  8.91551495e-01 -4.16914433e-01  7.45899742e-03  5.96039355e-01\n",
      "  1.95995796e+00  3.23896706e-01 -3.93505424e-01  5.16732752e-01\n",
      "  1.26791275e+00 -9.07981694e-02 -3.54371011e-01 -9.82448518e-01\n",
      " -2.35630617e-01 -2.65021138e-02  8.69837761e-01  9.50075805e-01\n",
      "  1.95226535e-01 -7.70851552e-01  3.36555690e-01  2.43882015e-01\n",
      "  3.26469898e-01 -1.61719680e-01 -2.65389413e-01  1.17365921e+00\n",
      " -1.29810166e+00 -2.15066954e-01  1.57986060e-01 -1.29759085e+00\n",
      "  9.83289719e-01  7.71944880e-01 -3.86581361e-01 -1.13754022e+00\n",
      " -1.14247143e+00  1.18445791e-01  8.91580045e-01 -1.39895713e+00\n",
      "  6.67900503e-01 -1.35529947e+00 -1.46134406e-01  1.17180026e+00\n",
      " -3.08422357e-01  7.93722034e-01  1.81852281e-01 -4.18357491e-01\n",
      "  1.14674687e-01  3.45651150e-01 -1.05110951e-01 -1.23866653e+00\n",
      "  1.01472330e+00  2.34904870e-01 -1.75476506e-01  1.61798215e+00\n",
      "  2.21016139e-01 -8.50463271e-01  4.87152934e-01  3.00167561e-01\n",
      " -2.72590756e-01 -5.18200815e-01  1.56031740e+00  4.81935740e-01\n",
      "  6.25149608e-02  5.82319200e-01 -3.63258421e-01  4.56536025e-01\n",
      " -2.23264530e-01 -1.63960755e+00 -8.66398990e-01 -7.97480881e-01\n",
      "  1.05110002e+00  3.43726836e-02  1.98071384e+00 -4.53063279e-01\n",
      "  8.42007339e-01 -1.16236949e+00  8.95895123e-01  3.26363415e-01\n",
      "  1.14572155e+00  1.70324922e+00  1.64251304e+00  8.40411425e-01\n",
      " -7.74876773e-01 -9.37803388e-01 -7.59541929e-01  2.96136975e-01\n",
      " -5.66441596e-01 -4.17549163e-01 -2.21446276e-01 -1.19525015e+00\n",
      "  4.84515876e-01 -1.54644048e+00  2.38757706e+00  3.28801960e-01\n",
      " -3.96663547e-01 -7.09581375e-01  3.94696414e-01 -4.87227380e-01\n",
      " -7.46937931e-01  1.52531609e-01  1.44988406e+00 -1.37791562e+00\n",
      "  5.44555545e-01  4.15603846e-01 -8.17252040e-01 -1.14539897e+00\n",
      " -7.95504987e-01  7.28414237e-01 -7.68127069e-02 -6.48750216e-02\n",
      " -1.47178411e+00  8.64165366e-01  4.92552698e-01  2.19566122e-01\n",
      " -5.08246839e-01  1.88644683e+00  1.05070269e+00  5.97975217e-02\n",
      "  2.13355795e-01 -5.29942572e-01 -1.08156574e+00  1.04141128e+00\n",
      " -5.99132963e-02  1.63149619e+00  1.30764139e+00  6.77161634e-01\n",
      "  8.92233908e-01 -4.82103735e-01 -2.79675066e-01 -1.51231718e+00\n",
      "  9.86127079e-01 -9.18353021e-01  1.97079435e-01  2.62268662e-01\n",
      " -2.20848128e-01 -7.62911797e-01  1.73414934e+00  7.40317464e-01\n",
      " -8.94008756e-01 -5.66031098e-01 -2.22734585e-01  6.32194221e-01\n",
      " -4.79102373e-01 -1.28357306e-01  1.92969859e+00 -1.24060881e+00\n",
      " -5.89494467e-01 -3.69489998e-01  7.00641453e-01  2.88669586e-01\n",
      "  1.18903808e-01 -1.10181391e+00  1.52074802e+00 -3.40435058e-01\n",
      " -1.92507374e+00 -1.14888525e+00 -2.22578621e+00  4.08496171e-01\n",
      " -7.08018318e-02 -2.16988730e+00  3.80790889e-01 -1.24244380e+00\n",
      "  6.05754852e-01 -7.72162259e-01  9.61050808e-01 -1.58720148e+00\n",
      "  7.81211734e-01  1.22030592e+00 -7.50687897e-01 -1.57606900e-01\n",
      " -7.52809942e-01 -6.68741584e-01 -8.81018341e-01 -1.48711726e-01\n",
      " -1.05895722e+00 -4.70867932e-01 -1.10969174e+00  1.31321049e+00\n",
      " -9.38978970e-01  1.72125721e+00  8.84099841e-01  1.19803935e-01\n",
      " -5.10417223e-01  4.57171977e-01  2.39324474e+00 -1.84639704e+00\n",
      " -3.20229292e-01 -8.52453470e-01  6.63636029e-01 -2.32887492e-01\n",
      "  1.03275812e+00  2.74203330e-01 -1.35819852e+00  1.15002072e+00\n",
      " -1.08633399e+00  2.57097602e-01 -5.52203476e-01  1.07960856e+00\n",
      " -1.70762405e-01 -5.50617456e-01 -3.45041394e-01 -4.29963171e-01\n",
      " -1.50303423e-01  2.05531621e+00  1.15976691e+00  8.73163402e-01\n",
      "  1.14862967e+00  1.64120758e+00  2.34103426e-01 -3.64174902e-01\n",
      "  1.78020680e+00  1.75216484e+00 -3.09644759e-01 -3.51071119e-01\n",
      "  1.95970368e-02  6.67886496e-01 -1.60714996e+00  2.06097770e+00\n",
      " -2.77110487e-01  1.16031718e+00 -8.31018269e-01 -2.66897380e-02\n",
      " -2.01041269e+00  5.53636372e-01 -4.42026854e-01 -2.82467693e-01\n",
      " -4.54824865e-01  1.42678773e+00  1.72229517e+00  1.00914645e+00\n",
      "  3.12336385e-01  1.50566697e+00 -1.04116178e+00 -1.07353628e+00\n",
      " -5.03971934e-01 -1.13189816e+00  7.97982693e-01  5.06749928e-01\n",
      "  2.02631116e-01 -1.03794992e+00  7.29295790e-01 -7.94466019e-01\n",
      " -4.13182825e-01 -1.18939078e+00 -3.78153324e-01  7.41891414e-02\n",
      " -3.15670758e-01  3.32194924e-01  9.35388282e-02  1.61693886e-01\n",
      "  3.30942750e-01  1.35961115e-01 -6.40521288e-01 -1.84499526e+00\n",
      " -1.53966534e+00 -4.01248485e-01  9.19156987e-03  3.93205971e-01\n",
      " -2.20460725e+00  3.33324760e-01  9.52045858e-01 -3.67578954e-01\n",
      " -1.34383416e+00 -9.02198613e-01  1.14873275e-01  6.78143680e-01\n",
      "  2.46512318e+00 -1.28647995e+00 -7.95990527e-01 -7.98380375e-01\n",
      "  1.59599876e+00  9.77119982e-01  6.76512718e-01  2.57837534e-01\n",
      "  1.08596921e+00 -4.18612570e-01 -9.39030051e-02 -4.92073387e-01\n",
      " -1.56487620e+00 -1.44014859e+00  1.09062302e+00 -1.20834112e+00\n",
      "  6.67750955e-01  1.52940392e+00 -1.07622623e+00 -1.14405787e+00\n",
      " -3.02473962e-01 -5.95206797e-01 -3.35420012e-01  4.02086169e-01\n",
      " -8.55722547e-01  4.83303815e-02 -1.02694058e+00 -5.76169372e-01\n",
      " -7.09746361e-01 -1.83126485e+00 -4.74544138e-01  6.63241863e-01\n",
      "  1.50537515e+00 -2.63537526e-01  8.74006808e-01  1.08291352e+00\n",
      " -8.41604114e-01 -1.51304615e+00 -9.33973730e-01 -4.66763020e-01\n",
      "  2.51107621e+00 -1.03432250e+00 -1.49646044e+00 -1.00200212e+00\n",
      "  2.97205806e-01 -1.73975289e-01  2.46268064e-01 -3.65691483e-01\n",
      " -5.10837913e-01 -9.23159719e-02 -2.41223738e-01 -2.19463658e+00]\n"
     ]
    }
   ],
   "source": [
    "print('Nr of dimensions for the mebdding of the first token:', len(word_vectors[0][0]))\n",
    "print(word_vectors[0][0])"
   ]
  },
  {
   "cell_type": "markdown",
   "metadata": {},
   "source": [
    "**WAIT** Our sentence has 7 words so why do we get 9 tokens here?"
   ]
  },
  {
   "cell_type": "markdown",
   "metadata": {},
   "source": [
    "We can  use the tokenizer of the model to get the token representation of the transformer and check it out."
   ]
  },
  {
   "cell_type": "code",
   "execution_count": 13,
   "metadata": {},
   "outputs": [
    {
     "data": {
      "text/plain": [
       "{'input_ids': [101, 100, 3309, 1998, 1996, 2326, 2003, 2307, 102], 'token_type_ids': [0, 0, 0, 0, 0, 0, 0, 0, 0], 'attention_mask': [1, 1, 1, 1, 1, 1, 1, 1, 1]}"
      ]
     },
     "execution_count": 13,
     "metadata": {},
     "output_type": "execute_result"
    }
   ],
   "source": [
    "tokenized_sentence = model.tokenizer(sentence_pos_en)\n",
    "tokenized_sentence"
   ]
  },
  {
   "cell_type": "markdown",
   "metadata": {},
   "source": [
    "Although our sentence has 7 words, we get 9 identifiers. We can use the **decode** function to convert them back to words:"
   ]
  },
  {
   "cell_type": "code",
   "execution_count": 14,
   "metadata": {},
   "outputs": [
    {
     "data": {
      "text/plain": [
       "'[ C L S ]'"
      ]
     },
     "execution_count": 14,
     "metadata": {},
     "output_type": "execute_result"
    }
   ],
   "source": [
    "model.tokenizer.decode(101)"
   ]
  },
  {
   "cell_type": "markdown",
   "metadata": {},
   "source": [
    "The first token is the special token **CLS** which is an abstract sentence representation. Let's check another one:"
   ]
  },
  {
   "cell_type": "code",
   "execution_count": 15,
   "metadata": {},
   "outputs": [
    {
     "data": {
      "text/plain": [
       "'h o t e l'"
      ]
     },
     "execution_count": 15,
     "metadata": {},
     "output_type": "execute_result"
    }
   ],
   "source": [
    "model.tokenizer.decode(3309)"
   ]
  },
  {
   "cell_type": "markdown",
   "metadata": {},
   "source": [
    "Allright, this a word from our sentence. Let's decode them all:"
   ]
  },
  {
   "cell_type": "code",
   "execution_count": 51,
   "metadata": {},
   "outputs": [
    {
     "name": "stdout",
     "output_type": "stream",
     "text": [
      "101 [ C L S ]\n",
      "100 [ U N K ]\n",
      "3309 h o t e l\n",
      "1998 a n d\n",
      "1996 t h e\n",
      "2326 s e r v i c e\n",
      "2003 i s\n",
      "2307 g r e a t\n",
      "102 [ S E P ]\n"
     ]
    }
   ],
   "source": [
    "tokenid_list = tokenized_sentence['input_ids']\n",
    "for token_id in tokenid_list:\n",
    "    print(token_id, model.tokenizer.decode(token_id))"
   ]
  },
  {
   "cell_type": "markdown",
   "metadata": {},
   "source": [
    "The transformer model added the special tokens **CLS** and **SEP** but also represented our \"Nice\" with the **UNK** token. Any idea why? Check the name of the model we used....."
   ]
  },
  {
   "cell_type": "markdown",
   "metadata": {},
   "source": [
    "We used the uncased model, which means that for training all inoput was downcased."
   ]
  },
  {
   "cell_type": "markdown",
   "metadata": {},
   "source": [
    "# End of this notebook"
   ]
  },
  {
   "cell_type": "code",
   "execution_count": null,
   "metadata": {},
   "outputs": [],
   "source": []
  }
 ],
 "metadata": {
  "kernelspec": {
   "display_name": "Python 3",
   "language": "python",
   "name": "python3"
  },
  "language_info": {
   "codemirror_mode": {
    "name": "ipython",
    "version": 3
   },
   "file_extension": ".py",
   "mimetype": "text/x-python",
   "name": "python",
   "nbconvert_exporter": "python",
   "pygments_lexer": "ipython3",
   "version": "3.10.12"
  }
 },
 "nbformat": 4,
 "nbformat_minor": 4
}
